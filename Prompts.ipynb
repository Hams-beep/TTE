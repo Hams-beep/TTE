{
  "nbformat": 4,
  "nbformat_minor": 0,
  "metadata": {
    "colab": {
      "provenance": []
    },
    "kernelspec": {
      "name": "python3",
      "display_name": "Python 3"
    },
    "language_info": {
      "name": "python"
    }
  },
  "cells": [
    {
      "cell_type": "markdown",
      "source": [
        "# **Notable Prompts Used**\n",
        "\n",
        ">  *Initial Prompts for converting R codes into Python:*\n",
        "\n",
        "* \"How do you think should I go about this? Give me a simple temporary workflow that we could follow for this assignment.\"\n",
        "* \"Can you please start converting the R codes into Python?\"\n",
        "* \"Do you think we should apply clustering before expanding the dataset or should we do it before the survival analysis?\"\n",
        "* \"Thank you for that! :3 Can you now please help me fix some of the code you've given me? Add explanations for each step and make it simple. Maybe even add additional definitions to some of the terms used.\"\n",
        "\n",
        "> *At this point, we ran into problems when playing around with K-means clustering due to how the data was expanded. Because of this, we made the decision to do hierarchical clustering instead due to our data being too similar to each other.*\n",
        "\n",
        "* \"We've decided to use Hierarchical Clustering instead. After checking the clustering using your instructions, we can see that the clusters are too close and similar. We can also see that there are no clusters with less than ~10 observations, so that's out of the picture. Thank you for helping us get these insights! Can you help us with transitioning and plotting to this method instead?\"\n",
        "* \"What do you think about the visualizations compared to when we used K-means?\"\n",
        "* \"Where else do you think should we integrate a clustering method? For reference the code simulates a target trial Emulation in python\"\n",
        "* \"Can you help me integrate the clustering within the function that expands the dataset?\"\n",
        "* \"I think the clustering is good already. Can you now help us gather additional insights regarding our integration?\""
      ],
      "metadata": {
        "id": "xcacu6ePHKaH"
      }
    }
  ]
}